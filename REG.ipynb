{
  "nbformat": 4,
  "nbformat_minor": 0,
  "metadata": {
    "colab": {
      "provenance": []
    },
    "kernelspec": {
      "name": "python3",
      "display_name": "Python 3"
    },
    "language_info": {
      "name": "python"
    }
  },
  "cells": [
    {
      "cell_type": "markdown",
      "source": [
        "**PROJECT 2: LINEAR REGRESSION**\n",
        "\n",
        "**JAYASHREE JOHNSON**  \n",
        "**CS675 INTRODUCTION TO DATA SCIENCE**"
      ],
      "metadata": {
        "id": "cPttJceIO1DJ"
      }
    },
    {
      "cell_type": "markdown",
      "source": [
        "**Step#1 INSTALL & IMPORT REQUIRED LIBRARIES**"
      ],
      "metadata": {
        "id": "psp30AvSPtcb"
      }
    },
    {
      "cell_type": "code",
      "source": [
        "import pandas as pd\n",
        "import numpy as np\n",
        "import matplotlib.pyplot as plt\n",
        "import seaborn as sns\n",
        "\n",
        "from sklearn.linear_model import LinearRegression\n",
        "from sklearn.metrics import mean_squared_error\n",
        "from sklearn.model_selection import train_test_split\n",
        "\n",
        "import warnings\n",
        "warnings.filterwarnings('ignore')"
      ],
      "metadata": {
        "id": "P_wb74ykKEh1"
      },
      "execution_count": null,
      "outputs": []
    },
    {
      "cell_type": "markdown",
      "source": [
        "**Step#2 LOAD & INSPECT DATA**"
      ],
      "metadata": {
        "id": "HcuXI--QQAV4"
      }
    },
    {
      "cell_type": "code",
      "source": [
        "url = \"https://web.stanford.edu/~hastie/Papers/LARS/diabetes.data\"\n",
        "column_names = [\n",
        "    'age', 'sex', 'bmi', 'bp', 's1', 's2', 's3', 's4', 's5', 's6', 'y'\n",
        "]\n",
        "\n",
        "df = pd.read_csv(url,delim_whitespace=True, header=None, names=column_names)"
      ],
      "metadata": {
        "id": "ezsdlD6KKL_h"
      },
      "execution_count": null,
      "outputs": []
    },
    {
      "cell_type": "markdown",
      "source": [
        "Here, I separate `X` (input features) and `y` (the target variable for disease progression)."
      ],
      "metadata": {
        "id": "0wX3ZcKyQ2Wz"
      }
    },
    {
      "cell_type": "code",
      "source": [
        "X = df.drop(columns='y')\n",
        "y = df['y']\n",
        "df.head()"
      ],
      "metadata": {
        "colab": {
          "base_uri": "https://localhost:8080/",
          "height": 204
        },
        "id": "UeKdk2gUKQCT",
        "outputId": "d0cdd07a-ed4a-478f-9767-effe000e2d46"
      },
      "execution_count": null,
      "outputs": [
        {
          "output_type": "execute_result",
          "data": {
            "text/plain": [
              "   age  sex   bmi   bp   s1     s2  s3  s4      s5  s6    y\n",
              "0  AGE  SEX   BMI   BP   S1     S2  S3  S4      S5  S6    Y\n",
              "1   59    2  32.1  101  157   93.2  38   4  4.8598  87  151\n",
              "2   48    1  21.6   87  183  103.2  70   3  3.8918  69   75\n",
              "3   72    2  30.5   93  156   93.6  41   4  4.6728  85  141\n",
              "4   24    1  25.3   84  198  131.4  40   5  4.8903  89  206"
            ],
            "text/html": [
              "\n",
              "  <div id=\"df-0f53f6ef-02cf-449f-b9ee-db603364e4be\" class=\"colab-df-container\">\n",
              "    <div>\n",
              "<style scoped>\n",
              "    .dataframe tbody tr th:only-of-type {\n",
              "        vertical-align: middle;\n",
              "    }\n",
              "\n",
              "    .dataframe tbody tr th {\n",
              "        vertical-align: top;\n",
              "    }\n",
              "\n",
              "    .dataframe thead th {\n",
              "        text-align: right;\n",
              "    }\n",
              "</style>\n",
              "<table border=\"1\" class=\"dataframe\">\n",
              "  <thead>\n",
              "    <tr style=\"text-align: right;\">\n",
              "      <th></th>\n",
              "      <th>age</th>\n",
              "      <th>sex</th>\n",
              "      <th>bmi</th>\n",
              "      <th>bp</th>\n",
              "      <th>s1</th>\n",
              "      <th>s2</th>\n",
              "      <th>s3</th>\n",
              "      <th>s4</th>\n",
              "      <th>s5</th>\n",
              "      <th>s6</th>\n",
              "      <th>y</th>\n",
              "    </tr>\n",
              "  </thead>\n",
              "  <tbody>\n",
              "    <tr>\n",
              "      <th>0</th>\n",
              "      <td>AGE</td>\n",
              "      <td>SEX</td>\n",
              "      <td>BMI</td>\n",
              "      <td>BP</td>\n",
              "      <td>S1</td>\n",
              "      <td>S2</td>\n",
              "      <td>S3</td>\n",
              "      <td>S4</td>\n",
              "      <td>S5</td>\n",
              "      <td>S6</td>\n",
              "      <td>Y</td>\n",
              "    </tr>\n",
              "    <tr>\n",
              "      <th>1</th>\n",
              "      <td>59</td>\n",
              "      <td>2</td>\n",
              "      <td>32.1</td>\n",
              "      <td>101</td>\n",
              "      <td>157</td>\n",
              "      <td>93.2</td>\n",
              "      <td>38</td>\n",
              "      <td>4</td>\n",
              "      <td>4.8598</td>\n",
              "      <td>87</td>\n",
              "      <td>151</td>\n",
              "    </tr>\n",
              "    <tr>\n",
              "      <th>2</th>\n",
              "      <td>48</td>\n",
              "      <td>1</td>\n",
              "      <td>21.6</td>\n",
              "      <td>87</td>\n",
              "      <td>183</td>\n",
              "      <td>103.2</td>\n",
              "      <td>70</td>\n",
              "      <td>3</td>\n",
              "      <td>3.8918</td>\n",
              "      <td>69</td>\n",
              "      <td>75</td>\n",
              "    </tr>\n",
              "    <tr>\n",
              "      <th>3</th>\n",
              "      <td>72</td>\n",
              "      <td>2</td>\n",
              "      <td>30.5</td>\n",
              "      <td>93</td>\n",
              "      <td>156</td>\n",
              "      <td>93.6</td>\n",
              "      <td>41</td>\n",
              "      <td>4</td>\n",
              "      <td>4.6728</td>\n",
              "      <td>85</td>\n",
              "      <td>141</td>\n",
              "    </tr>\n",
              "    <tr>\n",
              "      <th>4</th>\n",
              "      <td>24</td>\n",
              "      <td>1</td>\n",
              "      <td>25.3</td>\n",
              "      <td>84</td>\n",
              "      <td>198</td>\n",
              "      <td>131.4</td>\n",
              "      <td>40</td>\n",
              "      <td>5</td>\n",
              "      <td>4.8903</td>\n",
              "      <td>89</td>\n",
              "      <td>206</td>\n",
              "    </tr>\n",
              "  </tbody>\n",
              "</table>\n",
              "</div>\n",
              "    <div class=\"colab-df-buttons\">\n",
              "\n",
              "  <div class=\"colab-df-container\">\n",
              "    <button class=\"colab-df-convert\" onclick=\"convertToInteractive('df-0f53f6ef-02cf-449f-b9ee-db603364e4be')\"\n",
              "            title=\"Convert this dataframe to an interactive table.\"\n",
              "            style=\"display:none;\">\n",
              "\n",
              "  <svg xmlns=\"http://www.w3.org/2000/svg\" height=\"24px\" viewBox=\"0 -960 960 960\">\n",
              "    <path d=\"M120-120v-720h720v720H120Zm60-500h600v-160H180v160Zm220 220h160v-160H400v160Zm0 220h160v-160H400v160ZM180-400h160v-160H180v160Zm440 0h160v-160H620v160ZM180-180h160v-160H180v160Zm440 0h160v-160H620v160Z\"/>\n",
              "  </svg>\n",
              "    </button>\n",
              "\n",
              "  <style>\n",
              "    .colab-df-container {\n",
              "      display:flex;\n",
              "      gap: 12px;\n",
              "    }\n",
              "\n",
              "    .colab-df-convert {\n",
              "      background-color: #E8F0FE;\n",
              "      border: none;\n",
              "      border-radius: 50%;\n",
              "      cursor: pointer;\n",
              "      display: none;\n",
              "      fill: #1967D2;\n",
              "      height: 32px;\n",
              "      padding: 0 0 0 0;\n",
              "      width: 32px;\n",
              "    }\n",
              "\n",
              "    .colab-df-convert:hover {\n",
              "      background-color: #E2EBFA;\n",
              "      box-shadow: 0px 1px 2px rgba(60, 64, 67, 0.3), 0px 1px 3px 1px rgba(60, 64, 67, 0.15);\n",
              "      fill: #174EA6;\n",
              "    }\n",
              "\n",
              "    .colab-df-buttons div {\n",
              "      margin-bottom: 4px;\n",
              "    }\n",
              "\n",
              "    [theme=dark] .colab-df-convert {\n",
              "      background-color: #3B4455;\n",
              "      fill: #D2E3FC;\n",
              "    }\n",
              "\n",
              "    [theme=dark] .colab-df-convert:hover {\n",
              "      background-color: #434B5C;\n",
              "      box-shadow: 0px 1px 3px 1px rgba(0, 0, 0, 0.15);\n",
              "      filter: drop-shadow(0px 1px 2px rgba(0, 0, 0, 0.3));\n",
              "      fill: #FFFFFF;\n",
              "    }\n",
              "  </style>\n",
              "\n",
              "    <script>\n",
              "      const buttonEl =\n",
              "        document.querySelector('#df-0f53f6ef-02cf-449f-b9ee-db603364e4be button.colab-df-convert');\n",
              "      buttonEl.style.display =\n",
              "        google.colab.kernel.accessAllowed ? 'block' : 'none';\n",
              "\n",
              "      async function convertToInteractive(key) {\n",
              "        const element = document.querySelector('#df-0f53f6ef-02cf-449f-b9ee-db603364e4be');\n",
              "        const dataTable =\n",
              "          await google.colab.kernel.invokeFunction('convertToInteractive',\n",
              "                                                    [key], {});\n",
              "        if (!dataTable) return;\n",
              "\n",
              "        const docLinkHtml = 'Like what you see? Visit the ' +\n",
              "          '<a target=\"_blank\" href=https://colab.research.google.com/notebooks/data_table.ipynb>data table notebook</a>'\n",
              "          + ' to learn more about interactive tables.';\n",
              "        element.innerHTML = '';\n",
              "        dataTable['output_type'] = 'display_data';\n",
              "        await google.colab.output.renderOutput(dataTable, element);\n",
              "        const docLink = document.createElement('div');\n",
              "        docLink.innerHTML = docLinkHtml;\n",
              "        element.appendChild(docLink);\n",
              "      }\n",
              "    </script>\n",
              "  </div>\n",
              "\n",
              "\n",
              "<div id=\"df-fb0fd0bd-f2cb-4004-b7cf-c46ecddd9573\">\n",
              "  <button class=\"colab-df-quickchart\" onclick=\"quickchart('df-fb0fd0bd-f2cb-4004-b7cf-c46ecddd9573')\"\n",
              "            title=\"Suggest charts\"\n",
              "            style=\"display:none;\">\n",
              "\n",
              "<svg xmlns=\"http://www.w3.org/2000/svg\" height=\"24px\"viewBox=\"0 0 24 24\"\n",
              "     width=\"24px\">\n",
              "    <g>\n",
              "        <path d=\"M19 3H5c-1.1 0-2 .9-2 2v14c0 1.1.9 2 2 2h14c1.1 0 2-.9 2-2V5c0-1.1-.9-2-2-2zM9 17H7v-7h2v7zm4 0h-2V7h2v10zm4 0h-2v-4h2v4z\"/>\n",
              "    </g>\n",
              "</svg>\n",
              "  </button>\n",
              "\n",
              "<style>\n",
              "  .colab-df-quickchart {\n",
              "      --bg-color: #E8F0FE;\n",
              "      --fill-color: #1967D2;\n",
              "      --hover-bg-color: #E2EBFA;\n",
              "      --hover-fill-color: #174EA6;\n",
              "      --disabled-fill-color: #AAA;\n",
              "      --disabled-bg-color: #DDD;\n",
              "  }\n",
              "\n",
              "  [theme=dark] .colab-df-quickchart {\n",
              "      --bg-color: #3B4455;\n",
              "      --fill-color: #D2E3FC;\n",
              "      --hover-bg-color: #434B5C;\n",
              "      --hover-fill-color: #FFFFFF;\n",
              "      --disabled-bg-color: #3B4455;\n",
              "      --disabled-fill-color: #666;\n",
              "  }\n",
              "\n",
              "  .colab-df-quickchart {\n",
              "    background-color: var(--bg-color);\n",
              "    border: none;\n",
              "    border-radius: 50%;\n",
              "    cursor: pointer;\n",
              "    display: none;\n",
              "    fill: var(--fill-color);\n",
              "    height: 32px;\n",
              "    padding: 0;\n",
              "    width: 32px;\n",
              "  }\n",
              "\n",
              "  .colab-df-quickchart:hover {\n",
              "    background-color: var(--hover-bg-color);\n",
              "    box-shadow: 0 1px 2px rgba(60, 64, 67, 0.3), 0 1px 3px 1px rgba(60, 64, 67, 0.15);\n",
              "    fill: var(--button-hover-fill-color);\n",
              "  }\n",
              "\n",
              "  .colab-df-quickchart-complete:disabled,\n",
              "  .colab-df-quickchart-complete:disabled:hover {\n",
              "    background-color: var(--disabled-bg-color);\n",
              "    fill: var(--disabled-fill-color);\n",
              "    box-shadow: none;\n",
              "  }\n",
              "\n",
              "  .colab-df-spinner {\n",
              "    border: 2px solid var(--fill-color);\n",
              "    border-color: transparent;\n",
              "    border-bottom-color: var(--fill-color);\n",
              "    animation:\n",
              "      spin 1s steps(1) infinite;\n",
              "  }\n",
              "\n",
              "  @keyframes spin {\n",
              "    0% {\n",
              "      border-color: transparent;\n",
              "      border-bottom-color: var(--fill-color);\n",
              "      border-left-color: var(--fill-color);\n",
              "    }\n",
              "    20% {\n",
              "      border-color: transparent;\n",
              "      border-left-color: var(--fill-color);\n",
              "      border-top-color: var(--fill-color);\n",
              "    }\n",
              "    30% {\n",
              "      border-color: transparent;\n",
              "      border-left-color: var(--fill-color);\n",
              "      border-top-color: var(--fill-color);\n",
              "      border-right-color: var(--fill-color);\n",
              "    }\n",
              "    40% {\n",
              "      border-color: transparent;\n",
              "      border-right-color: var(--fill-color);\n",
              "      border-top-color: var(--fill-color);\n",
              "    }\n",
              "    60% {\n",
              "      border-color: transparent;\n",
              "      border-right-color: var(--fill-color);\n",
              "    }\n",
              "    80% {\n",
              "      border-color: transparent;\n",
              "      border-right-color: var(--fill-color);\n",
              "      border-bottom-color: var(--fill-color);\n",
              "    }\n",
              "    90% {\n",
              "      border-color: transparent;\n",
              "      border-bottom-color: var(--fill-color);\n",
              "    }\n",
              "  }\n",
              "</style>\n",
              "\n",
              "  <script>\n",
              "    async function quickchart(key) {\n",
              "      const quickchartButtonEl =\n",
              "        document.querySelector('#' + key + ' button');\n",
              "      quickchartButtonEl.disabled = true;  // To prevent multiple clicks.\n",
              "      quickchartButtonEl.classList.add('colab-df-spinner');\n",
              "      try {\n",
              "        const charts = await google.colab.kernel.invokeFunction(\n",
              "            'suggestCharts', [key], {});\n",
              "      } catch (error) {\n",
              "        console.error('Error during call to suggestCharts:', error);\n",
              "      }\n",
              "      quickchartButtonEl.classList.remove('colab-df-spinner');\n",
              "      quickchartButtonEl.classList.add('colab-df-quickchart-complete');\n",
              "    }\n",
              "    (() => {\n",
              "      let quickchartButtonEl =\n",
              "        document.querySelector('#df-fb0fd0bd-f2cb-4004-b7cf-c46ecddd9573 button');\n",
              "      quickchartButtonEl.style.display =\n",
              "        google.colab.kernel.accessAllowed ? 'block' : 'none';\n",
              "    })();\n",
              "  </script>\n",
              "</div>\n",
              "\n",
              "    </div>\n",
              "  </div>\n"
            ],
            "application/vnd.google.colaboratory.intrinsic+json": {
              "type": "dataframe",
              "variable_name": "df",
              "summary": "{\n  \"name\": \"df\",\n  \"rows\": 443,\n  \"fields\": [\n    {\n      \"column\": \"age\",\n      \"properties\": {\n        \"dtype\": \"category\",\n        \"num_unique_values\": 59,\n        \"samples\": [\n          \"AGE\",\n          \"50\",\n          \"21\"\n        ],\n        \"semantic_type\": \"\",\n        \"description\": \"\"\n      }\n    },\n    {\n      \"column\": \"sex\",\n      \"properties\": {\n        \"dtype\": \"category\",\n        \"num_unique_values\": 3,\n        \"samples\": [\n          \"SEX\",\n          \"2\",\n          \"1\"\n        ],\n        \"semantic_type\": \"\",\n        \"description\": \"\"\n      }\n    },\n    {\n      \"column\": \"bmi\",\n      \"properties\": {\n        \"dtype\": \"category\",\n        \"num_unique_values\": 164,\n        \"samples\": [\n          \"38.2\",\n          \"22.4\",\n          \"20\"\n        ],\n        \"semantic_type\": \"\",\n        \"description\": \"\"\n      }\n    },\n    {\n      \"column\": \"bp\",\n      \"properties\": {\n        \"dtype\": \"category\",\n        \"num_unique_values\": 101,\n        \"samples\": [\n          \"104.33\",\n          \"94.33\",\n          \"92.33\"\n        ],\n        \"semantic_type\": \"\",\n        \"description\": \"\"\n      }\n    },\n    {\n      \"column\": \"s1\",\n      \"properties\": {\n        \"dtype\": \"category\",\n        \"num_unique_values\": 142,\n        \"samples\": [\n          \"256\",\n          \"187\",\n          \"196\"\n        ],\n        \"semantic_type\": \"\",\n        \"description\": \"\"\n      }\n    },\n    {\n      \"column\": \"s2\",\n      \"properties\": {\n        \"dtype\": \"string\",\n        \"num_unique_values\": 303,\n        \"samples\": [\n          \"95\",\n          \"63.4\",\n          \"129.2\"\n        ],\n        \"semantic_type\": \"\",\n        \"description\": \"\"\n      }\n    },\n    {\n      \"column\": \"s3\",\n      \"properties\": {\n        \"dtype\": \"category\",\n        \"num_unique_values\": 64,\n        \"samples\": [\n          \"78\",\n          \"93\",\n          \"S3\"\n        ],\n        \"semantic_type\": \"\",\n        \"description\": \"\"\n      }\n    },\n    {\n      \"column\": \"s4\",\n      \"properties\": {\n        \"dtype\": \"category\",\n        \"num_unique_values\": 67,\n        \"samples\": [\n          \"3.85\",\n          \"4.8\",\n          \"2\"\n        ],\n        \"semantic_type\": \"\",\n        \"description\": \"\"\n      }\n    },\n    {\n      \"column\": \"s5\",\n      \"properties\": {\n        \"dtype\": \"category\",\n        \"num_unique_values\": 185,\n        \"samples\": [\n          \"4.5109\",\n          \"5.0304\",\n          \"4.9558\"\n        ],\n        \"semantic_type\": \"\",\n        \"description\": \"\"\n      }\n    },\n    {\n      \"column\": \"s6\",\n      \"properties\": {\n        \"dtype\": \"category\",\n        \"num_unique_values\": 57,\n        \"samples\": [\n          \"S6\",\n          \"80\",\n          \"71\"\n        ],\n        \"semantic_type\": \"\",\n        \"description\": \"\"\n      }\n    },\n    {\n      \"column\": \"y\",\n      \"properties\": {\n        \"dtype\": \"category\",\n        \"num_unique_values\": 215,\n        \"samples\": [\n          \"132\",\n          \"120\",\n          \"191\"\n        ],\n        \"semantic_type\": \"\",\n        \"description\": \"\"\n      }\n    }\n  ]\n}"
            }
          },
          "metadata": {},
          "execution_count": 5
        }
      ]
    },
    {
      "cell_type": "markdown",
      "source": [
        "**Step#3 DATA CLEANING**"
      ],
      "metadata": {
        "id": "74jH7-QRRjHc"
      }
    },
    {
      "cell_type": "markdown",
      "source": [
        "Although the dataset is mostly clean, I apply a safety step to ensure that:\n",
        "- All feature values are numeric (`pd.to_numeric`)\n",
        "- Any unexpected non-numeric or missing values are converted to NaN and then dropped\n",
        "\n",
        "This avoids errors when fitting the regression model and ensures our dataset is ready for modeling.  \n",
        "I also re-align the target `y` to match the cleaned `X` in case any rows were dropped."
      ],
      "metadata": {
        "id": "-9kV22SYQv9z"
      }
    },
    {
      "cell_type": "code",
      "source": [
        "X = X.apply(pd.to_numeric, errors='coerce')\n",
        "X.dropna(inplace=True)\n",
        "y = y[X.index]"
      ],
      "metadata": {
        "id": "I1MIxHpsLrxj"
      },
      "execution_count": null,
      "outputs": []
    },
    {
      "cell_type": "markdown",
      "source": [
        "**TASK#1: SINGLE FEATURE PREDICTION**"
      ],
      "metadata": {
        "id": "6eVkL9SISR_3"
      }
    },
    {
      "cell_type": "markdown",
      "source": [
        "In this step, I fit a Linear Regression model using each individual feature from `X` to predict the target `y`.\n",
        "\n",
        "I evaluate each model using **Mean Squared Error (MSE)** — the feature with the lowest MSE is considered the best predictor on its own.\n",
        "\n",
        "This gives us a baseline understanding of which variable carries the most predictive power when used alone."
      ],
      "metadata": {
        "id": "WdwZN6VURx9I"
      }
    },
    {
      "cell_type": "code",
      "source": [
        "best_mse = float('inf')\n",
        "best_feature = None\n",
        "best_model = None\n",
        "best_predictions = None\n",
        "\n",
        "for col in X.columns:\n",
        "    X_col = X[[col]]\n",
        "    model = LinearRegression().fit(X_col, y)\n",
        "    y_pred = model.predict(X_col)\n",
        "    mse = mean_squared_error(y, y_pred)\n",
        "\n",
        "    print(f\"{col} - MSE: {mse:.2f}\")\n",
        "\n",
        "    if mse < best_mse:\n",
        "        best_mse = mse\n",
        "        best_feature = col\n",
        "        best_model = model\n",
        "        best_predictions = y_pred\n",
        "\n",
        "print(\"\\nBest single feature:\", best_feature)\n",
        "print(\"→ Coefficient (slope):\", best_model.coef_[0])\n",
        "print(\"→ Intercept:\", best_model.intercept_)\n",
        "print(\"→ MSE:\", best_mse)\n"
      ],
      "metadata": {
        "colab": {
          "base_uri": "https://localhost:8080/"
        },
        "id": "CRcoovGULUAv",
        "outputId": "f9f52fdf-56d6-4b29-bb3d-15f25f2a47d4"
      },
      "execution_count": null,
      "outputs": [
        {
          "output_type": "stream",
          "name": "stdout",
          "text": [
            "age - MSE: 5720.55\n",
            "sex - MSE: 5918.89\n",
            "bmi - MSE: 3890.46\n",
            "bp - MSE: 4774.11\n",
            "s1 - MSE: 5663.32\n",
            "s2 - MSE: 5750.24\n",
            "s3 - MSE: 5005.66\n",
            "s4 - MSE: 4831.14\n",
            "s5 - MSE: 4031.00\n",
            "s6 - MSE: 5062.38\n",
            "\n",
            "Best single feature: bmi\n",
            "→ Coefficient (slope): 10.233127870100777\n",
            "→ Intercept: -117.77336656656527\n",
            "→ MSE: 3890.456585461273\n"
          ]
        }
      ]
    },
    {
      "cell_type": "markdown",
      "source": [
        "**OBSERVATION**\n",
        "\n",
        "The feature **`bmi`** gave the lowest MSE (**3890.46**), which means it was the best at predicting how much the disease had progressed — when used by itself.\n",
        "\n",
        "- The **slope (10.23)** tells us that when BMI goes up by 1 unit, the predicted disease progression goes up by about 10 units.\n",
        "- The **intercept (-117.77)** is where the line starts on the y-axis when BMI is 0. We don’t interpret that much — it’s just part of how the line is calculated.\n",
        "\n",
        "This result makes sense because BMI is directly related to body fat, which often plays a big role in diseases like diabetes."
      ],
      "metadata": {
        "id": "cyaU7sg5S6az"
      }
    },
    {
      "cell_type": "markdown",
      "source": [
        "**STEP#4 SIMPLE REGRESSION PLOT**"
      ],
      "metadata": {
        "id": "RA0hXLZaTkmj"
      }
    },
    {
      "cell_type": "markdown",
      "source": [
        "The model is learning: \"Given someone's BMI, how much disease progression can I expect?\""
      ],
      "metadata": {
        "id": "tJIF0VhhT0Wx"
      }
    },
    {
      "cell_type": "code",
      "source": [
        "plt.figure(figsize=(8, 5))\n",
        "sns.regplot(x=X[best_feature].astype(float), y=y.astype(float),\n",
        "            scatter_kws={'alpha': 0.5}, line_kws={'color': 'red'})\n",
        "\n",
        "plt.title(f'Linear Regression using \"{best_feature}\"', fontsize=14)\n",
        "plt.xlabel(best_feature, fontsize=12)\n",
        "plt.ylabel('Disease Progression (y)', fontsize=12)\n",
        "plt.grid(True, linestyle='--', alpha=0.5)\n",
        "plt.tight_layout()\n",
        "plt.show()"
      ],
      "metadata": {
        "colab": {
          "base_uri": "https://localhost:8080/",
          "height": 507
        },
        "id": "yDK1MB2xL07M",
        "outputId": "aaab7dc1-6977-4a5e-c674-c8bac98446c3"
      },
      "execution_count": null,
      "outputs": [
        {
          "output_type": "display_data",
          "data": {
            "text/plain": [
              "<Figure size 800x500 with 1 Axes>"
            ],
            "image/png": "[encoded data removed]"
          },
          "metadata": {}
        }
      ]
    },
    {
      "cell_type": "markdown",
      "source": [
        "This scatter plot shows the actual data points (blue dots) for BMI vs. disease progression.\n",
        "\n",
        "The red line represents the Linear Regression model's predictions. It shows the trend that as BMI increases, the disease progression score also tends to increase.\n",
        "\n",
        "The shaded area around the line shows the confidence interval — how sure the model is about the prediction trend.\n",
        "\n",
        "This visual confirms what the numbers showed earlier: **BMI has a clear upward relationship with the disease progression** and works well as a single predictor."
      ],
      "metadata": {
        "id": "YWfNFfLET_vc"
      }
    },
    {
      "cell_type": "markdown",
      "source": [
        "**TASK#2: LINEAR REGRESSION USING FEATURE PAIRS**"
      ],
      "metadata": {
        "id": "2lsa51UlUb_O"
      }
    },
    {
      "cell_type": "markdown",
      "source": [
        "Now, instead of using just one feature at a time, we try every possible pair of features from the dataset.\n",
        "\n",
        "For each pair:\n",
        "- I fit a Linear Regression model to predict `y`\n",
        "- I calculate the **Mean Squared Error (MSE)**\n",
        "- I keep track of the pair that gives us the **lowest MSE**\n",
        "\n",
        "This helps us see if using two features together improves the model’s prediction accuracy compared to just one."
      ],
      "metadata": {
        "id": "QqyLjf16U7P8"
      }
    },
    {
      "cell_type": "code",
      "source": [
        "from itertools import combinations\n",
        "best_mse_pair = float('inf')\n",
        "best_pair = None\n",
        "best_model_pair = None\n",
        "\n",
        "for pair in combinations(X.columns, 2):\n",
        "    X_pair = X[list(pair)]\n",
        "    model = LinearRegression().fit(X_pair, y)\n",
        "    y_pred = model.predict(X_pair)\n",
        "    mse = mean_squared_error(y, y_pred)\n",
        "\n",
        "    print(f\"{pair} - MSE: {mse:.2f}\")\n",
        "\n",
        "    if mse < best_mse_pair:\n",
        "        best_mse_pair = mse\n",
        "        best_pair = pair\n",
        "        best_model_pair = model\n",
        "\n",
        "print(\"\\nBest feature pair:\", best_pair)\n",
        "print(\"→ Coefficients:\", best_model_pair.coef_)\n",
        "print(\"→ Intercept:\", best_model_pair.intercept_)\n",
        "print(\"→ MSE:\", best_mse_pair)\n"
      ],
      "metadata": {
        "colab": {
          "base_uri": "https://localhost:8080/"
        },
        "id": "HXDxL0qONO3G",
        "outputId": "6ed7cf1a-a73c-4b89-ecfa-74e3dde2834a"
      },
      "execution_count": null,
      "outputs": [
        {
          "output_type": "stream",
          "name": "stdout",
          "text": [
            "('age', 'sex') - MSE: 5719.88\n",
            "('age', 'bmi') - MSE: 3851.80\n",
            "('age', 'bp') - MSE: 4763.53\n",
            "('age', 's1') - MSE: 5551.24\n",
            "('age', 's2') - MSE: 5610.59\n",
            "('age', 's3') - MSE: 4856.39\n",
            "('age', 's4') - MSE: 4769.09\n",
            "('age', 's5') - MSE: 4023.31\n",
            "('age', 's6') - MSE: 5028.11\n",
            "('sex', 'bmi') - MSE: 3890.01\n",
            "('sex', 'bp') - MSE: 4748.86\n",
            "('sex', 's1') - MSE: 5655.80\n",
            "('sex', 's2') - MSE: 5748.23\n",
            "('sex', 's3') - MSE: 4926.97\n",
            "('sex', 's4') - MSE: 4764.62\n",
            "('sex', 's5') - MSE: 4020.41\n",
            "('sex', 's6') - MSE: 5054.10\n",
            "('bmi', 'bp') - MSE: 3581.69\n",
            "('bmi', 's1') - MSE: 3863.29\n",
            "('bmi', 's2') - MSE: 3887.68\n",
            "('bmi', 's3') - MSE: 3669.26\n",
            "('bmi', 's4') - MSE: 3638.17\n",
            "('bmi', 's5') - MSE: 3205.19\n",
            "('bmi', 's6') - MSE: 3723.63\n",
            "('bp', 's1') - MSE: 4704.68\n",
            "('bp', 's2') - MSE: 4721.98\n",
            "('bp', 's3') - MSE: 4162.94\n",
            "('bp', 's4') - MSE: 4137.04\n",
            "('bp', 's5') - MSE: 3695.05\n",
            "('bp', 's6') - MSE: 4465.23\n",
            "('s1', 's2') - MSE: 5655.51\n",
            "('s1', 's3') - MSE: 4684.64\n",
            "('s1', 's4') - MSE: 4827.30\n",
            "('s1', 's5') - MSE: 3979.71\n",
            "('s1', 's6') - MSE: 5011.66\n",
            "('s2', 's3') - MSE: 4948.23\n",
            "('s2', 's4') - MSE: 4704.14\n",
            "('s2', 's5') - MSE: 4030.75\n",
            "('s2', 's6') - MSE: 5036.75\n",
            "('s3', 's4') - MSE: 4754.00\n",
            "('s3', 's5') - MSE: 3829.07\n",
            "('s3', 's6') - MSE: 4522.91\n",
            "('s4', 's5') - MSE: 3968.35\n",
            "('s4', 's6') - MSE: 4535.58\n",
            "('s5', 's6') - MSE: 3922.94\n",
            "\n",
            "Best feature pair: ('bmi', 's5')\n",
            "→ Coefficients: [ 7.27600054 56.05638703]\n",
            "→ Intercept: -299.95751508023613\n",
            "→ MSE: 3205.190076824853\n"
          ]
        }
      ]
    },
    {
      "cell_type": "markdown",
      "source": [
        "**OBSERVATION**\n",
        "\n",
        "BMI + s5 (lamotrigine) together were the best predictors of disease progression.\n",
        "\n",
        "That’s actually super interesting, because it suggests that:\n",
        "\n",
        "Body fat (bmi)\n",
        "And lamotrigine levels in the body → are both strong indicators of disease severity in this dataset"
      ],
      "metadata": {
        "id": "mn5GZHDGVCuC"
      }
    },
    {
      "cell_type": "markdown",
      "source": [
        "**TASK#3: LINEAR REGRESSION WITH ALL FEATURES**"
      ],
      "metadata": {
        "id": "1DMN9bujVh6J"
      }
    },
    {
      "cell_type": "markdown",
      "source": [
        "In this step, we train a Linear Regression model using **all 10 features** from the dataset at once.\n",
        "\n",
        "This allows the model to consider the full context and combined influence of all variables on disease progression.\n",
        "\n",
        "I calculate the model’s coefficients, intercept, and its **Mean Squared Error (MSE)** to compare performance with earlier models."
      ],
      "metadata": {
        "id": "s14Rpn_BWCun"
      }
    },
    {
      "cell_type": "code",
      "source": [
        "model_all = LinearRegression().fit(X, y)\n",
        "y_pred_all = model_all.predict(X)\n",
        "mse_all = mean_squared_error(y, y_pred_all)\n",
        "\n",
        "print(\"Linear Regression using all features:\")\n",
        "print(\"→ Coefficients:\")\n",
        "for feat, coef in zip(X.columns, model_all.coef_):\n",
        "    print(f\"   {feat}: {coef:.4f}\")\n",
        "print(f\"→ Intercept: {model_all.intercept_:.4f}\")\n",
        "print(f\"→ MSE: {mse_all:.2f}\")\n"
      ],
      "metadata": {
        "colab": {
          "base_uri": "https://localhost:8080/"
        },
        "id": "icxvT1o3NUVo",
        "outputId": "21214a25-73b2-43d2-bb96-01dff9cf5a89"
      },
      "execution_count": null,
      "outputs": [
        {
          "output_type": "stream",
          "name": "stdout",
          "text": [
            "Linear Regression using all features:\n",
            "→ Coefficients:\n",
            "   age: -0.0364\n",
            "   sex: -22.8596\n",
            "   bmi: 5.6030\n",
            "   bp: 1.1168\n",
            "   s1: -1.0900\n",
            "   s2: 0.7465\n",
            "   s3: 0.3720\n",
            "   s4: 6.5338\n",
            "   s5: 68.4831\n",
            "   s6: 0.2801\n",
            "→ Intercept: -334.5671\n",
            "→ MSE: 2859.70\n"
          ]
        }
      ]
    },
    {
      "cell_type": "markdown",
      "source": [
        "**OBSERVATION**\n",
        "\n",
        "- The model's **MSE dropped to 2859.70**, which is significantly better than using one or two features.\n",
        "- This shows that using all available features helped the model make more accurate predictions.\n",
        "- Each number tells us how much that feature affects the prediction when all features are considered together.\n",
        "- For example, `bmi` has a positive coefficient (5.60), meaning as BMI increases, disease progression tends to increase.\n",
        "- Some features like `sex` and `s1` have negative coefficients, suggesting they may decrease the prediction when their values go up.\n",
        "\n",
        "Overall, using all features gives the most complete model — but it’s also more complex and harder to interpret."
      ],
      "metadata": {
        "id": "29CRP-daVsfL"
      }
    },
    {
      "cell_type": "markdown",
      "source": [
        "**TASK#4: TRAINING SET SIZE COMPARISON**"
      ],
      "metadata": {
        "id": "dmufnVXPWNNa"
      }
    },
    {
      "cell_type": "markdown",
      "source": [
        "In this task, I test how different amounts of training data affect the model's accuracy.\n",
        "\n",
        "I train the model using 4 different training set sizes:\n",
        "- 20, 50, 100, and 200 samples\n",
        "\n",
        "For each size:\n",
        "- I calculate both **Training MSE** and **Validation MSE**\n",
        "- This helps us see how well the model generalizes vs. overfits"
      ],
      "metadata": {
        "id": "xPveSnOiWXEW"
      }
    },
    {
      "cell_type": "code",
      "source": [
        "train_sizes = [20, 50, 100, 200]\n",
        "train_mse_list = []\n",
        "val_mse_list = []\n",
        "\n",
        "for size in train_sizes:\n",
        "    X_train, X_val, y_train, y_val = train_test_split(X, y, train_size=size, random_state=42)\n",
        "\n",
        "    model = LinearRegression().fit(X_train, y_train)\n",
        "\n",
        "    y_train_pred = model.predict(X_train)\n",
        "    y_val_pred = model.predict(X_val)\n",
        "\n",
        "    train_mse = mean_squared_error(y_train, y_train_pred)\n",
        "    val_mse = mean_squared_error(y_val, y_val_pred)\n",
        "\n",
        "    train_mse_list.append(train_mse)\n",
        "    val_mse_list.append(val_mse)\n",
        "\n",
        "    print(f\"Train size: {size} | Train MSE: {train_mse:.2f} | Validation MSE: {val_mse:.2f}\")\n"
      ],
      "metadata": {
        "colab": {
          "base_uri": "https://localhost:8080/"
        },
        "id": "jX6UZCwENcHB",
        "outputId": "2396997f-be82-480d-a83e-6c51875129fa"
      },
      "execution_count": null,
      "outputs": [
        {
          "output_type": "stream",
          "name": "stdout",
          "text": [
            "Train size: 20 | Train MSE: 2066.51 | Validation MSE: 15905.60\n",
            "Train size: 50 | Train MSE: 2863.62 | Validation MSE: 3907.02\n",
            "Train size: 100 | Train MSE: 3150.51 | Validation MSE: 3423.45\n",
            "Train size: 200 | Train MSE: 2854.95 | Validation MSE: 3014.92\n"
          ]
        }
      ]
    },
    {
      "cell_type": "markdown",
      "source": [
        "- **Smaller training sets (like 20)** had much higher **validation error**, meaning the model couldn’t generalize well.\n",
        "- As the training set got bigger, **validation MSE decreased**, showing better generalization and more reliable predictions.\n",
        "- The gap between training and validation error also got smaller with more data.\n",
        "\n",
        "This confirms an important machine learning concept:\n",
        "- The more quality training data you have, the better your model usually performs on new, unseen data."
      ],
      "metadata": {
        "id": "aAhXenncWbxb"
      }
    },
    {
      "cell_type": "markdown",
      "source": [
        "**STEP#5 LEARNING CURVE**"
      ],
      "metadata": {
        "id": "6663MQBmWySS"
      }
    },
    {
      "cell_type": "markdown",
      "source": [
        "It helps us understand how the size of the training set affects the model’s performance."
      ],
      "metadata": {
        "id": "h5EtufODXIz5"
      }
    },
    {
      "cell_type": "code",
      "source": [
        "plt.figure(figsize=(8, 5))\n",
        "plt.plot(train_sizes, train_mse_list, marker='o', label='Training MSE')\n",
        "plt.plot(train_sizes, val_mse_list, marker='o', label='Validation MSE')\n",
        "plt.title('MSE vs Training Set Size')\n",
        "plt.xlabel('Training Set Size')\n",
        "plt.ylabel('Mean Squared Error')\n",
        "plt.legend()\n",
        "plt.grid(True, linestyle='--', alpha=0.6)\n",
        "plt.tight_layout()\n",
        "plt.show()\n"
      ],
      "metadata": {
        "colab": {
          "base_uri": "https://localhost:8080/",
          "height": 507
        },
        "id": "fYwWmok5NqFR",
        "outputId": "8babae54-b2a9-4867-80e8-193291112896"
      },
      "execution_count": null,
      "outputs": [
        {
          "output_type": "display_data",
          "data": {
            "text/plain": [
              "<Figure size 800x500 with 1 Axes>"
            ],
            "image/png": "[encoded data removed]"
          },
          "metadata": {}
        }
      ]
    },
    {
      "cell_type": "markdown",
      "source": [
        "- **Blue line (Training MSE)**: Shows how well the model fits the training data.\n",
        "- **Orange line (Validation MSE)**: Shows how well the model performs on unseen data.\n",
        "\n",
        "**OBSERVATION**\n",
        "\n",
        "- With just **20 samples**, the model overfits badly — validation MSE is super high.\n",
        "- As we increase training size, **validation MSE drops**, meaning the model is learning to generalize better.\n",
        "- At **200 samples**, both training and validation errors are low and close together — this is what we want.\n",
        "\n",
        "This proves an important point in machine learning:\n",
        "- **More quality data = better, more reliable models.**"
      ],
      "metadata": {
        "id": "YCiVL5b_W57V"
      }
    },
    {
      "cell_type": "markdown",
      "source": [
        "**STEP#6 EXTRA CREDIT: XGBOOST REGRESSION**"
      ],
      "metadata": {
        "id": "fS7jlGWSYY7N"
      }
    },
    {
      "cell_type": "code",
      "source": [
        "!pip install xgboost"
      ],
      "metadata": {
        "colab": {
          "base_uri": "https://localhost:8080/"
        },
        "id": "57rNnAQBNtyw",
        "outputId": "cfb9abb9-e033-43e4-e523-312abbdaebe6"
      },
      "execution_count": null,
      "outputs": [
        {
          "output_type": "stream",
          "name": "stdout",
          "text": [
            "Requirement already satisfied: xgboost in /usr/local/lib/python3.11/dist-packages (2.1.4)\n",
            "Requirement already satisfied: numpy in /usr/local/lib/python3.11/dist-packages (from xgboost) (2.0.2)\n",
            "Requirement already satisfied: nvidia-nccl-cu12 in /usr/local/lib/python3.11/dist-packages (from xgboost) (2.21.5)\n",
            "Requirement already satisfied: scipy in /usr/local/lib/python3.11/dist-packages (from xgboost) (1.14.1)\n"
          ]
        }
      ]
    },
    {
      "cell_type": "markdown",
      "source": [
        "For the extra credit task, I've used the **XGBoost Regression model** (`XGBRegressor`) to predict disease progression."
      ],
      "metadata": {
        "id": "3bqA0G-_Y3f5"
      }
    },
    {
      "cell_type": "code",
      "source": [
        "xgb_model1 = xgb.XGBRegressor(objective='reg:squarederror', n_estimators=50, random_state=42)\n",
        "xgb_model1.fit(X[[best_feature]], y)\n",
        "mse_xgb1 = mean_squared_error(y, xgb_model1.predict(X[[best_feature]]))\n",
        "\n",
        "xgb_model2 = xgb.XGBRegressor(objective='reg:squarederror', n_estimators=50, random_state=42)\n",
        "xgb_model2.fit(X[list(best_pair)], y)\n",
        "mse_xgb2 = mean_squared_error(y, xgb_model2.predict(X[list(best_pair)]))\n",
        "\n",
        "xgb_model3 = xgb.XGBRegressor(objective='reg:squarederror', n_estimators=50, random_state=42)\n",
        "xgb_model3.fit(X, y)\n",
        "mse_xgb3 = mean_squared_error(y, xgb_model3.predict(X))\n"
      ],
      "metadata": {
        "id": "ccuLjKdLnC0Y"
      },
      "execution_count": null,
      "outputs": []
    },
    {
      "cell_type": "code",
      "source": [
        "print(\" XGBoost Model Summary \\n\")\n",
        "\n",
        "print(\"Task 1: Single Best Feature (\", best_feature, \")\")\n",
        "print(f\"XGBoost MSE: {mse_xgb1:.2f}\\n\")\n",
        "\n",
        "print(\"Task 2: Best Feature Pair (\", best_pair[0], \",\", best_pair[1], \")\")\n",
        "print(f\"XGBoost MSE: {mse_xgb2:.2f}\\n\")\n",
        "\n",
        "print(\"Task 3: All Features\")\n",
        "print(f\"XGBoost MSE: {mse_xgb3:.2f}\\n\")\n"
      ],
      "metadata": {
        "colab": {
          "base_uri": "https://localhost:8080/"
        },
        "id": "LNjtTNuOnF5O",
        "outputId": "87a080cc-0793-4cb3-fea9-f26135608fba"
      },
      "execution_count": null,
      "outputs": [
        {
          "output_type": "stream",
          "name": "stdout",
          "text": [
            " XGBoost Model Summary \n",
            "\n",
            "Task 1: Single Best Feature ( bmi )\n",
            "XGBoost MSE: 2521.03\n",
            "\n",
            "Task 2: Best Feature Pair ( bmi , s5 )\n",
            "XGBoost MSE: 298.87\n",
            "\n",
            "Task 3: All Features\n",
            "XGBoost MSE: 10.54\n",
            "\n"
          ]
        }
      ]
    },
    {
      "cell_type": "markdown",
      "source": [
        "**OBSERVATION**\n",
        "\n",
        "Task 1: Single Best Feature (bmi)\n",
        "\n",
        "I trained XGBoost using just the best individual feature: BMI (body mass index).\n",
        "Even with one feature, the model performed decently — showing it could detect a strong pattern.\n",
        "\n",
        "MSE: 2521.03\n",
        "This result was better than Linear Regression using the same feature.\n",
        "\n",
        "Task 2: Best Feature Pair (bmi, s5)\n",
        "\n",
        "Next, I used the top two features — BMI and S5.\n",
        "S5 represents lamotrigine, a medication, and combining it with BMI gave a big performance boost.\n",
        "\n",
        "MSE: 298.87\n",
        "That’s a huge improvement — showing how feature combinations matter, and XGBoost handles them well.\n",
        "\n",
        "Task 3: All Features\n",
        "\n",
        "Finally, I trained XGBoost on all 10 features together.\n",
        "This gave the best results, since the model could learn from everything available.\n",
        "\n",
        "MSE: 10.54\n",
        "XGBoost outperformed all the previous models — but this MSE was calculated on training data, so it might be overfitting."
      ],
      "metadata": {
        "id": "1uxgg-IDoEwd"
      }
    },
    {
      "cell_type": "markdown",
      "source": [
        "**STEP#7 CONCLUSION**\n",
        "\n",
        "In this project, I explored how Linear Regression can be used to predict disease progression based on real-world health data.\n",
        "\n",
        "I started by testing individual features, then feature pairs, and finally all features to see how prediction accuracy improved.  \n",
        "I also analyzed how different training sizes affect model performance and generalization.\n",
        "\n",
        "For the extra credit, I used the **XGBoost Regression model (XGBRegressor)**, which showed a much lower MSE on the training data — highlighting its power but also the risk of overfitting.\n",
        "\n",
        "**TAKEAWAY**\n",
        "- **`bmi`** was the best single predictor of disease progression.\n",
        "- Using **more features** and **larger training sets** led to better model performance.\n",
        "- **XGBoost** gave the best results in terms of MSE, but linear regression remains more interpretable.\n",
        "\n",
        "This project helped me understand how different modeling decisions affect accuracy and how to balance simplicity with predictive power."
      ],
      "metadata": {
        "id": "Iqg06G6qZ0AW"
      }
    }
  ]
}